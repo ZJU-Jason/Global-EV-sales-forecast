{
 "cells": [
  {
   "cell_type": "code",
   "execution_count": 1,
   "id": "9a06d6f7",
   "metadata": {},
   "outputs": [],
   "source": [
    "#STEP1 Visualize Data"
   ]
  },
  {
   "cell_type": "code",
   "execution_count": 2,
   "id": "5c28fe3c",
   "metadata": {},
   "outputs": [],
   "source": [
    "import numpy as np\n",
    "import pandas as pd\n",
    "\n",
    "import matplotlib.pyplot as plt\n",
    "%matplotlib inline"
   ]
  },
  {
   "cell_type": "code",
   "execution_count": 4,
   "id": "6e1e223f",
   "metadata": {},
   "outputs": [
    {
     "data": {
      "text/html": [
       "<div>\n",
       "<style scoped>\n",
       "    .dataframe tbody tr th:only-of-type {\n",
       "        vertical-align: middle;\n",
       "    }\n",
       "\n",
       "    .dataframe tbody tr th {\n",
       "        vertical-align: top;\n",
       "    }\n",
       "\n",
       "    .dataframe thead th {\n",
       "        text-align: right;\n",
       "    }\n",
       "</style>\n",
       "<table border=\"1\" class=\"dataframe\">\n",
       "  <thead>\n",
       "    <tr style=\"text-align: right;\">\n",
       "      <th></th>\n",
       "      <th>Month</th>\n",
       "      <th>Sales</th>\n",
       "    </tr>\n",
       "  </thead>\n",
       "  <tbody>\n",
       "    <tr>\n",
       "      <th>0</th>\n",
       "      <td>Jan-17</td>\n",
       "      <td>189570</td>\n",
       "    </tr>\n",
       "    <tr>\n",
       "      <th>1</th>\n",
       "      <td>Feb-17</td>\n",
       "      <td>221757</td>\n",
       "    </tr>\n",
       "    <tr>\n",
       "      <th>2</th>\n",
       "      <td>Mar-17</td>\n",
       "      <td>319922</td>\n",
       "    </tr>\n",
       "    <tr>\n",
       "      <th>3</th>\n",
       "      <td>Apr-17</td>\n",
       "      <td>210293</td>\n",
       "    </tr>\n",
       "    <tr>\n",
       "      <th>4</th>\n",
       "      <td>May-17</td>\n",
       "      <td>244534</td>\n",
       "    </tr>\n",
       "    <tr>\n",
       "      <th>5</th>\n",
       "      <td>Jun-17</td>\n",
       "      <td>280853</td>\n",
       "    </tr>\n",
       "    <tr>\n",
       "      <th>6</th>\n",
       "      <td>Jul-17</td>\n",
       "      <td>254255</td>\n",
       "    </tr>\n",
       "    <tr>\n",
       "      <th>7</th>\n",
       "      <td>Aug-17</td>\n",
       "      <td>244351</td>\n",
       "    </tr>\n",
       "    <tr>\n",
       "      <th>8</th>\n",
       "      <td>Sep-17</td>\n",
       "      <td>316447</td>\n",
       "    </tr>\n",
       "    <tr>\n",
       "      <th>9</th>\n",
       "      <td>Oct-17</td>\n",
       "      <td>264150</td>\n",
       "    </tr>\n",
       "    <tr>\n",
       "      <th>10</th>\n",
       "      <td>Nov-17</td>\n",
       "      <td>301316</td>\n",
       "    </tr>\n",
       "    <tr>\n",
       "      <th>11</th>\n",
       "      <td>Dec-17</td>\n",
       "      <td>319448</td>\n",
       "    </tr>\n",
       "    <tr>\n",
       "      <th>12</th>\n",
       "      <td>Jan-18</td>\n",
       "      <td>242885</td>\n",
       "    </tr>\n",
       "    <tr>\n",
       "      <th>13</th>\n",
       "      <td>Feb-18</td>\n",
       "      <td>251691</td>\n",
       "    </tr>\n",
       "    <tr>\n",
       "      <th>14</th>\n",
       "      <td>Mar-18</td>\n",
       "      <td>371838</td>\n",
       "    </tr>\n",
       "    <tr>\n",
       "      <th>15</th>\n",
       "      <td>Apr-18</td>\n",
       "      <td>280059</td>\n",
       "    </tr>\n",
       "    <tr>\n",
       "      <th>16</th>\n",
       "      <td>May-18</td>\n",
       "      <td>318967</td>\n",
       "    </tr>\n",
       "    <tr>\n",
       "      <th>17</th>\n",
       "      <td>Jun-18</td>\n",
       "      <td>338318</td>\n",
       "    </tr>\n",
       "    <tr>\n",
       "      <th>18</th>\n",
       "      <td>Jul-18</td>\n",
       "      <td>324031</td>\n",
       "    </tr>\n",
       "    <tr>\n",
       "      <th>19</th>\n",
       "      <td>Aug-18</td>\n",
       "      <td>321733</td>\n",
       "    </tr>\n",
       "    <tr>\n",
       "      <th>20</th>\n",
       "      <td>Sep-18</td>\n",
       "      <td>392556</td>\n",
       "    </tr>\n",
       "    <tr>\n",
       "      <th>21</th>\n",
       "      <td>Oct-18</td>\n",
       "      <td>378617</td>\n",
       "    </tr>\n",
       "    <tr>\n",
       "      <th>22</th>\n",
       "      <td>Nov-18</td>\n",
       "      <td>416220</td>\n",
       "    </tr>\n",
       "    <tr>\n",
       "      <th>23</th>\n",
       "      <td>Dec-18</td>\n",
       "      <td>426272</td>\n",
       "    </tr>\n",
       "    <tr>\n",
       "      <th>24</th>\n",
       "      <td>Jan-19</td>\n",
       "      <td>331231</td>\n",
       "    </tr>\n",
       "    <tr>\n",
       "      <th>25</th>\n",
       "      <td>Feb-19</td>\n",
       "      <td>294332</td>\n",
       "    </tr>\n",
       "    <tr>\n",
       "      <th>26</th>\n",
       "      <td>Mar-19</td>\n",
       "      <td>456283</td>\n",
       "    </tr>\n",
       "    <tr>\n",
       "      <th>27</th>\n",
       "      <td>Apr-19</td>\n",
       "      <td>335262</td>\n",
       "    </tr>\n",
       "    <tr>\n",
       "      <th>28</th>\n",
       "      <td>May-19</td>\n",
       "      <td>370916</td>\n",
       "    </tr>\n",
       "    <tr>\n",
       "      <th>29</th>\n",
       "      <td>Jun-19</td>\n",
       "      <td>428602</td>\n",
       "    </tr>\n",
       "    <tr>\n",
       "      <th>30</th>\n",
       "      <td>Jul-19</td>\n",
       "      <td>341352</td>\n",
       "    </tr>\n",
       "    <tr>\n",
       "      <th>31</th>\n",
       "      <td>Aug-19</td>\n",
       "      <td>329245</td>\n",
       "    </tr>\n",
       "    <tr>\n",
       "      <th>32</th>\n",
       "      <td>Sep-19</td>\n",
       "      <td>384946</td>\n",
       "    </tr>\n",
       "    <tr>\n",
       "      <th>33</th>\n",
       "      <td>Oct-19</td>\n",
       "      <td>319384</td>\n",
       "    </tr>\n",
       "    <tr>\n",
       "      <th>34</th>\n",
       "      <td>Nov-19</td>\n",
       "      <td>353819</td>\n",
       "    </tr>\n",
       "    <tr>\n",
       "      <th>35</th>\n",
       "      <td>Dec-19</td>\n",
       "      <td>414618</td>\n",
       "    </tr>\n",
       "    <tr>\n",
       "      <th>36</th>\n",
       "      <td>Jan-20</td>\n",
       "      <td>334501</td>\n",
       "    </tr>\n",
       "    <tr>\n",
       "      <th>37</th>\n",
       "      <td>Feb-20</td>\n",
       "      <td>300784</td>\n",
       "    </tr>\n",
       "    <tr>\n",
       "      <th>38</th>\n",
       "      <td>Mar-20</td>\n",
       "      <td>354814</td>\n",
       "    </tr>\n",
       "    <tr>\n",
       "      <th>39</th>\n",
       "      <td>Apr-20</td>\n",
       "      <td>219021</td>\n",
       "    </tr>\n",
       "    <tr>\n",
       "      <th>40</th>\n",
       "      <td>May-20</td>\n",
       "      <td>271238</td>\n",
       "    </tr>\n",
       "    <tr>\n",
       "      <th>41</th>\n",
       "      <td>Jun-20</td>\n",
       "      <td>403487</td>\n",
       "    </tr>\n",
       "    <tr>\n",
       "      <th>42</th>\n",
       "      <td>Jul-20</td>\n",
       "      <td>440605</td>\n",
       "    </tr>\n",
       "    <tr>\n",
       "      <th>43</th>\n",
       "      <td>Aug-20</td>\n",
       "      <td>397634</td>\n",
       "    </tr>\n",
       "    <tr>\n",
       "      <th>44</th>\n",
       "      <td>Sep-20</td>\n",
       "      <td>567259</td>\n",
       "    </tr>\n",
       "    <tr>\n",
       "      <th>45</th>\n",
       "      <td>Oct-20</td>\n",
       "      <td>551108</td>\n",
       "    </tr>\n",
       "    <tr>\n",
       "      <th>46</th>\n",
       "      <td>Nov-20</td>\n",
       "      <td>599856</td>\n",
       "    </tr>\n",
       "    <tr>\n",
       "      <th>47</th>\n",
       "      <td>Dec-20</td>\n",
       "      <td>766725</td>\n",
       "    </tr>\n",
       "    <tr>\n",
       "      <th>48</th>\n",
       "      <td>Jan-21</td>\n",
       "      <td>620741</td>\n",
       "    </tr>\n",
       "    <tr>\n",
       "      <th>49</th>\n",
       "      <td>Feb-21</td>\n",
       "      <td>567524</td>\n",
       "    </tr>\n",
       "    <tr>\n",
       "      <th>50</th>\n",
       "      <td>Mar-21</td>\n",
       "      <td>939062</td>\n",
       "    </tr>\n",
       "    <tr>\n",
       "      <th>51</th>\n",
       "      <td>Apr-21</td>\n",
       "      <td>724192</td>\n",
       "    </tr>\n",
       "    <tr>\n",
       "      <th>52</th>\n",
       "      <td>May-21</td>\n",
       "      <td>773819</td>\n",
       "    </tr>\n",
       "    <tr>\n",
       "      <th>53</th>\n",
       "      <td>Jun-21</td>\n",
       "      <td>900057</td>\n",
       "    </tr>\n",
       "    <tr>\n",
       "      <th>54</th>\n",
       "      <td>Jul-21</td>\n",
       "      <td>829555</td>\n",
       "    </tr>\n",
       "    <tr>\n",
       "      <th>55</th>\n",
       "      <td>Aug-21</td>\n",
       "      <td>832333</td>\n",
       "    </tr>\n",
       "    <tr>\n",
       "      <th>56</th>\n",
       "      <td>Sep-21</td>\n",
       "      <td>983509</td>\n",
       "    </tr>\n",
       "  </tbody>\n",
       "</table>\n",
       "</div>"
      ],
      "text/plain": [
       "     Month   Sales\n",
       "0   Jan-17  189570\n",
       "1   Feb-17  221757\n",
       "2   Mar-17  319922\n",
       "3   Apr-17  210293\n",
       "4   May-17  244534\n",
       "5   Jun-17  280853\n",
       "6   Jul-17  254255\n",
       "7   Aug-17  244351\n",
       "8   Sep-17  316447\n",
       "9   Oct-17  264150\n",
       "10  Nov-17  301316\n",
       "11  Dec-17  319448\n",
       "12  Jan-18  242885\n",
       "13  Feb-18  251691\n",
       "14  Mar-18  371838\n",
       "15  Apr-18  280059\n",
       "16  May-18  318967\n",
       "17  Jun-18  338318\n",
       "18  Jul-18  324031\n",
       "19  Aug-18  321733\n",
       "20  Sep-18  392556\n",
       "21  Oct-18  378617\n",
       "22  Nov-18  416220\n",
       "23  Dec-18  426272\n",
       "24  Jan-19  331231\n",
       "25  Feb-19  294332\n",
       "26  Mar-19  456283\n",
       "27  Apr-19  335262\n",
       "28  May-19  370916\n",
       "29  Jun-19  428602\n",
       "30  Jul-19  341352\n",
       "31  Aug-19  329245\n",
       "32  Sep-19  384946\n",
       "33  Oct-19  319384\n",
       "34  Nov-19  353819\n",
       "35  Dec-19  414618\n",
       "36  Jan-20  334501\n",
       "37  Feb-20  300784\n",
       "38  Mar-20  354814\n",
       "39  Apr-20  219021\n",
       "40  May-20  271238\n",
       "41  Jun-20  403487\n",
       "42  Jul-20  440605\n",
       "43  Aug-20  397634\n",
       "44  Sep-20  567259\n",
       "45  Oct-20  551108\n",
       "46  Nov-20  599856\n",
       "47  Dec-20  766725\n",
       "48  Jan-21  620741\n",
       "49  Feb-21  567524\n",
       "50  Mar-21  939062\n",
       "51  Apr-21  724192\n",
       "52  May-21  773819\n",
       "53  Jun-21  900057\n",
       "54  Jul-21  829555\n",
       "55  Aug-21  832333\n",
       "56  Sep-21  983509"
      ]
     },
     "execution_count": 4,
     "metadata": {},
     "output_type": "execute_result"
    }
   ],
   "source": [
    "df=pd.read_csv('ev.csv')\n",
    "df"
   ]
  },
  {
   "cell_type": "code",
   "execution_count": 5,
   "id": "4265b034",
   "metadata": {},
   "outputs": [
    {
     "data": {
      "text/plain": [
       "<AxesSubplot:>"
      ]
     },
     "execution_count": 5,
     "metadata": {},
     "output_type": "execute_result"
    },
    {
     "data": {
      "image/png": "[encoded data removed]",
      "text/plain": [
       "<Figure size 432x288 with 1 Axes>"
      ]
     },
     "metadata": {
      "needs_background": "light"
     },
     "output_type": "display_data"
    }
   ],
   "source": [
    "df.plot()  # plot ev sales"
   ]
  },
  {
   "cell_type": "code",
   "execution_count": 7,
   "id": "55d1a9f1",
   "metadata": {},
   "outputs": [
    {
     "name": "stderr",
     "output_type": "stream",
     "text": [
      "d:\\Users\\JasonChow\\Anaconda3\\lib\\site-packages\\statsmodels\\compat\\pandas.py:49: FutureWarning: The Panel class is removed from pandas. Accessing it from the top-level namespace will also be removed in the next version\n",
      "  data_klasses = (pandas.Series, pandas.DataFrame, pandas.Panel)\n"
     ]
    }
   ],
   "source": [
    "#STEP 2 Stationarity test\n",
    "from statsmodels.tsa.stattools import adfuller"
   ]
  },
  {
   "cell_type": "code",
   "execution_count": 10,
   "id": "7693139f",
   "metadata": {},
   "outputs": [],
   "source": [
    "test_result=adfuller(df['Sales'])\n",
    "def adfuller_test(sales):\n",
    "    result=adfuller(sales)\n",
    "    labels = ['ADF Test Statistic','p-value','#Lags Used','Number of Observations Used']\n",
    "    for value,label in zip(result,labels):\n",
    "        print(label+' : '+str(value) )\n",
    "    if result[1] <= 0.05:\n",
    "        print(\"strong evidence against the null hypothesis(Ho), reject the null hypothesis. Data has no unit root and is stationary\")\n",
    "    else:\n",
    "        print(\"weak evidence against null hypothesis, time series has a unit root, indicating it is non-stationary \")"
   ]
  },
  {
   "cell_type": "code",
   "execution_count": 11,
   "id": "b2c4ba42",
   "metadata": {},
   "outputs": [
    {
     "name": "stdout",
     "output_type": "stream",
     "text": [
      "ADF Test Statistic : 0.7071925486951873\n",
      "p-value : 0.9899803215641829\n",
      "#Lags Used : 11\n",
      "Number of Observations Used : 45\n",
      "weak evidence against null hypothesis, time series has a unit root, indicating it is non-stationary \n"
     ]
    }
   ],
   "source": [
    "adfuller_test(df['Sales']) "
   ]
  },
  {
   "cell_type": "code",
   "execution_count": 12,
   "id": "3532ffc4",
   "metadata": {},
   "outputs": [],
   "source": [
    "# STEP3 Data is not stable, differential processing"
   ]
  },
  {
   "cell_type": "code",
   "execution_count": 136,
   "id": "51513e1b",
   "metadata": {
    "scrolled": false
   },
   "outputs": [
    {
     "data": {
      "text/plain": [
       "0          NaN\n",
       "1      32187.0\n",
       "2      98165.0\n",
       "3    -109629.0\n",
       "4      34241.0\n",
       "5      36319.0\n",
       "6     -26598.0\n",
       "7      -9904.0\n",
       "8      72096.0\n",
       "9     -52297.0\n",
       "10     37166.0\n",
       "11     18132.0\n",
       "12    -76563.0\n",
       "13      8806.0\n",
       "14    120147.0\n",
       "15    -91779.0\n",
       "16     38908.0\n",
       "17     19351.0\n",
       "18    -14287.0\n",
       "19     -2298.0\n",
       "20     70823.0\n",
       "21    -13939.0\n",
       "22     37603.0\n",
       "23     10052.0\n",
       "24    -95041.0\n",
       "25    -36899.0\n",
       "26    161951.0\n",
       "27   -121021.0\n",
       "28     35654.0\n",
       "29     57686.0\n",
       "30    -87250.0\n",
       "31    -12107.0\n",
       "32     55701.0\n",
       "33    -65562.0\n",
       "34     34435.0\n",
       "35     60799.0\n",
       "36    -80117.0\n",
       "37    -33717.0\n",
       "38     54030.0\n",
       "39   -135793.0\n",
       "40     52217.0\n",
       "41    132249.0\n",
       "42     37118.0\n",
       "43    -42971.0\n",
       "44    169625.0\n",
       "45    -16151.0\n",
       "46     48748.0\n",
       "47    166869.0\n",
       "48   -145984.0\n",
       "49    -53217.0\n",
       "50    371538.0\n",
       "51   -214870.0\n",
       "52     49627.0\n",
       "53    126238.0\n",
       "54    -70502.0\n",
       "55      2778.0\n",
       "56    151176.0\n",
       "Name: Seasonal First Difference, dtype: float64"
      ]
     },
     "execution_count": 136,
     "metadata": {},
     "output_type": "execute_result"
    }
   ],
   "source": [
    "df['Seasonal First Difference'] = df['Sales'] - df['Sales'].shift(1)\n",
    "df['Seasonal First Difference'] "
   ]
  },
  {
   "cell_type": "code",
   "execution_count": 137,
   "id": "46ace3d5",
   "metadata": {},
   "outputs": [
    {
     "data": {
      "text/plain": [
       "<AxesSubplot:>"
      ]
     },
     "execution_count": 137,
     "metadata": {},
     "output_type": "execute_result"
    },
    {
     "data": {
      "image/png": "[encoded data removed]",
      "text/plain": [
       "<Figure size 432x288 with 1 Axes>"
      ]
     },
     "metadata": {
      "needs_background": "light"
     },
     "output_type": "display_data"
    }
   ],
   "source": [
    "df['Seasonal First Difference'].plot()"
   ]
  },
  {
   "cell_type": "code",
   "execution_count": 138,
   "id": "e365adbd",
   "metadata": {
    "scrolled": true
   },
   "outputs": [
    {
     "name": "stdout",
     "output_type": "stream",
     "text": [
      "ADF Test Statistic : -1.4129993512476908\n",
      "p-value : 0.5760284439278107\n",
      "#Lags Used : 11\n",
      "Number of Observations Used : 44\n",
      "weak evidence against null hypothesis, time series has a unit root, indicating it is non-stationary \n"
     ]
    }
   ],
   "source": [
    "## Again test dickey fuller test\n",
    "adfuller_test(df['Seasonal First Difference'].dropna())"
   ]
  },
  {
   "cell_type": "code",
   "execution_count": 145,
   "id": "98b334f2",
   "metadata": {},
   "outputs": [
    {
     "data": {
      "text/plain": [
       "0          NaN\n",
       "1          NaN\n",
       "2          NaN\n",
       "3          NaN\n",
       "4          NaN\n",
       "5       4132.0\n",
       "6    -124763.0\n",
       "7      99725.0\n",
       "8      37855.0\n",
       "9     -88616.0\n",
       "10     63764.0\n",
       "11     28036.0\n",
       "12   -148659.0\n",
       "13     61103.0\n",
       "14     82981.0\n",
       "15   -109911.0\n",
       "16    115471.0\n",
       "17     10545.0\n",
       "18   -134434.0\n",
       "19     89481.0\n",
       "20     31915.0\n",
       "21    -33290.0\n",
       "22     51890.0\n",
       "23     12350.0\n",
       "24   -165864.0\n",
       "25    -22960.0\n",
       "26    124348.0\n",
       "27   -131073.0\n",
       "28    130695.0\n",
       "29     94585.0\n",
       "30   -249201.0\n",
       "31    108914.0\n",
       "32     20047.0\n",
       "33   -123248.0\n",
       "34    121685.0\n",
       "35     72906.0\n",
       "36   -135818.0\n",
       "37     31845.0\n",
       "38     19595.0\n",
       "39   -196592.0\n",
       "40    132334.0\n",
       "41    165966.0\n",
       "42    -16912.0\n",
       "43     92822.0\n",
       "44    117408.0\n",
       "45   -148400.0\n",
       "46     11630.0\n",
       "47    209840.0\n",
       "48   -315609.0\n",
       "49    -37066.0\n",
       "50    322790.0\n",
       "51   -381739.0\n",
       "52    195611.0\n",
       "53    179455.0\n",
       "54   -442040.0\n",
       "55    217648.0\n",
       "56    101549.0\n",
       "Name: Seasonal Second Difference, dtype: float64"
      ]
     },
     "execution_count": 145,
     "metadata": {},
     "output_type": "execute_result"
    }
   ],
   "source": [
    "df['Seasonal Second Difference'] = df['Seasonal First Difference'] - df['Seasonal First Difference'].shift(4)\n",
    "df['Seasonal Second Difference']"
   ]
  },
  {
   "cell_type": "code",
   "execution_count": 146,
   "id": "faf9d8d6",
   "metadata": {
    "scrolled": false
   },
   "outputs": [
    {
     "data": {
      "text/plain": [
       "<AxesSubplot:>"
      ]
     },
     "execution_count": 146,
     "metadata": {},
     "output_type": "execute_result"
    },
    {
     "data": {
      "image/png": "[encoded data removed]",
      "text/plain": [
       "<Figure size 432x288 with 1 Axes>"
      ]
     },
     "metadata": {
      "needs_background": "light"
     },
     "output_type": "display_data"
    }
   ],
   "source": [
    "df['Seasonal Second Difference'].plot()"
   ]
  },
  {
   "cell_type": "code",
   "execution_count": 147,
   "id": "c40549b6",
   "metadata": {
    "scrolled": false
   },
   "outputs": [
    {
     "name": "stdout",
     "output_type": "stream",
     "text": [
      "ADF Test Statistic : -3.413724138149066\n",
      "p-value : 0.010499819692897627\n",
      "#Lags Used : 7\n",
      "Number of Observations Used : 44\n",
      "strong evidence against the null hypothesis(Ho), reject the null hypothesis. Data has no unit root and is stationary\n"
     ]
    }
   ],
   "source": [
    "adfuller_test(df['Seasonal Second Difference'].dropna())"
   ]
  },
  {
   "cell_type": "code",
   "execution_count": 66,
   "id": "9a74b1eb",
   "metadata": {},
   "outputs": [],
   "source": [
    "#Auto Regressive Model  "
   ]
  },
  {
   "cell_type": "code",
   "execution_count": 111,
   "id": "bacbe1d0",
   "metadata": {},
   "outputs": [
    {
     "name": "stderr",
     "output_type": "stream",
     "text": [
      "d:\\Users\\JasonChow\\Anaconda3\\lib\\site-packages\\pandas\\plotting\\_matplotlib\\misc.py:411: MatplotlibDeprecationWarning: Calling gca() with keyword arguments was deprecated in Matplotlib 3.4. Starting two minor releases later, gca() will take no keyword arguments. The gca() function should only be used to get the current axes, or if no axes exist, create new axes with default keyword arguments. To create a new axes with non-default arguments, use plt.axes() or plt.subplot().\n",
      "  ax = plt.gca(xlim=(1, n), ylim=(-1.0, 1.0))\n"
     ]
    },
    {
     "data": {
      "image/png": "[encoded data removed]",
      "text/plain": [
       "<Figure size 432x288 with 1 Axes>"
      ]
     },
     "metadata": {
      "needs_background": "light"
     },
     "output_type": "display_data"
    }
   ],
   "source": [
    "from pandas.plotting import autocorrelation_plot\n",
    "autocorrelation_plot(df['Sales'])\n",
    "plt.show()"
   ]
  },
  {
   "cell_type": "code",
   "execution_count": 112,
   "id": "c8847b62",
   "metadata": {},
   "outputs": [],
   "source": [
    "from statsmodels.graphics.tsaplots import plot_acf,plot_pacf\n",
    "import statsmodels.api as sm"
   ]
  },
  {
   "cell_type": "code",
   "execution_count": 149,
   "id": "819c5f28",
   "metadata": {},
   "outputs": [
    {
     "name": "stderr",
     "output_type": "stream",
     "text": [
      "d:\\Users\\JasonChow\\Anaconda3\\lib\\site-packages\\statsmodels\\regression\\linear_model.py:1283: RuntimeWarning: invalid value encountered in sqrt\n",
      "  return rho, np.sqrt(sigmasq)\n"
     ]
    },
    {
     "data": {
      "image/png": "[encoded data removed]",
      "text/plain": [
       "<Figure size 864x576 with 2 Axes>"
      ]
     },
     "metadata": {
      "needs_background": "light"
     },
     "output_type": "display_data"
    }
   ],
   "source": [
    "fig = plt.figure(figsize=(12,8))\n",
    "ax1 = fig.add_subplot(211)\n",
    "fig = sm.graphics.tsa.plot_acf(df['Seasonal Second Difference'].iloc[5:],lags=30,ax=ax1)\n",
    "ax1.xaxis.set_ticks_position('bottom')\n",
    "\n",
    "ax2 = fig.add_subplot(212)\n",
    "fig = sm.graphics.tsa.plot_pacf(df['Seasonal Second Difference'].iloc[5:],lags=30,ax=ax2)"
   ]
  },
  {
   "cell_type": "code",
   "execution_count": 85,
   "id": "70c86592",
   "metadata": {},
   "outputs": [],
   "source": [
    "# For non-seasonal data, from ACF and PCF figure， it can be concluded that p,d,q\n",
    "#p=4, d=2, q=5\n",
    "from statsmodels.tsa.arima_model import ARIMA"
   ]
  },
  {
   "cell_type": "code",
   "execution_count": 251,
   "id": "98ab2435",
   "metadata": {
    "scrolled": true
   },
   "outputs": [],
   "source": [
    "model=ARIMA(df['Sales'].dropna(),order=(4,2,1))\n",
    "model_fit=model.fit()"
   ]
  },
  {
   "cell_type": "code",
   "execution_count": 252,
   "id": "d7ec4559",
   "metadata": {
    "scrolled": false
   },
   "outputs": [
    {
     "data": {
      "text/html": [
       "<table class=\"simpletable\">\n",
       "<caption>ARIMA Model Results</caption>\n",
       "<tr>\n",
       "  <th>Dep. Variable:</th>     <td>D2.Sales</td>     <th>  No. Observations:  </th>    <td>55</td>    \n",
       "</tr>\n",
       "<tr>\n",
       "  <th>Model:</th>          <td>ARIMA(4, 2, 1)</td>  <th>  Log Likelihood     </th> <td>-688.611</td> \n",
       "</tr>\n",
       "<tr>\n",
       "  <th>Method:</th>             <td>css-mle</td>     <th>  S.D. of innovations</th> <td>62538.412</td>\n",
       "</tr>\n",
       "<tr>\n",
       "  <th>Date:</th>          <td>Tue, 02 Nov 2021</td> <th>  AIC                </th> <td>1391.221</td> \n",
       "</tr>\n",
       "<tr>\n",
       "  <th>Time:</th>              <td>22:50:08</td>     <th>  BIC                </th> <td>1405.273</td> \n",
       "</tr>\n",
       "<tr>\n",
       "  <th>Sample:</th>                <td>2</td>        <th>  HQIC               </th> <td>1396.655</td> \n",
       "</tr>\n",
       "<tr>\n",
       "  <th></th>                       <td> </td>        <th>                     </th>     <td> </td>    \n",
       "</tr>\n",
       "</table>\n",
       "<table class=\"simpletable\">\n",
       "<tr>\n",
       "         <td></td>           <th>coef</th>     <th>std err</th>      <th>z</th>      <th>P>|z|</th>  <th>[0.025</th>    <th>0.975]</th>  \n",
       "</tr>\n",
       "<tr>\n",
       "  <th>const</th>          <td>  586.5973</td> <td>  351.262</td> <td>    1.670</td> <td> 0.101</td> <td> -101.864</td> <td> 1275.058</td>\n",
       "</tr>\n",
       "<tr>\n",
       "  <th>ar.L1.D2.Sales</th> <td>   -0.6117</td> <td>    0.135</td> <td>   -4.515</td> <td> 0.000</td> <td>   -0.877</td> <td>   -0.346</td>\n",
       "</tr>\n",
       "<tr>\n",
       "  <th>ar.L2.D2.Sales</th> <td>   -0.3631</td> <td>    0.157</td> <td>   -2.320</td> <td> 0.025</td> <td>   -0.670</td> <td>   -0.056</td>\n",
       "</tr>\n",
       "<tr>\n",
       "  <th>ar.L3.D2.Sales</th> <td>    0.3585</td> <td>    0.158</td> <td>    2.274</td> <td> 0.027</td> <td>    0.050</td> <td>    0.668</td>\n",
       "</tr>\n",
       "<tr>\n",
       "  <th>ar.L4.D2.Sales</th> <td>    0.1616</td> <td>    0.135</td> <td>    1.194</td> <td> 0.238</td> <td>   -0.104</td> <td>    0.427</td>\n",
       "</tr>\n",
       "<tr>\n",
       "  <th>ma.L1.D2.Sales</th> <td>   -1.0000</td> <td>    0.064</td> <td>  -15.583</td> <td> 0.000</td> <td>   -1.126</td> <td>   -0.874</td>\n",
       "</tr>\n",
       "</table>\n",
       "<table class=\"simpletable\">\n",
       "<caption>Roots</caption>\n",
       "<tr>\n",
       "    <td></td>   <th>            Real</th>  <th>         Imaginary</th> <th>         Modulus</th>  <th>        Frequency</th>\n",
       "</tr>\n",
       "<tr>\n",
       "  <th>AR.1</th> <td>          -0.5486</td> <td>          -0.9976j</td> <td>           1.1385</td> <td>          -0.3300</td>\n",
       "</tr>\n",
       "<tr>\n",
       "  <th>AR.2</th> <td>          -0.5486</td> <td>          +0.9976j</td> <td>           1.1385</td> <td>           0.3300</td>\n",
       "</tr>\n",
       "<tr>\n",
       "  <th>AR.3</th> <td>           1.6950</td> <td>          -0.0000j</td> <td>           1.6950</td> <td>          -0.0000</td>\n",
       "</tr>\n",
       "<tr>\n",
       "  <th>AR.4</th> <td>          -2.8158</td> <td>          -0.0000j</td> <td>           2.8158</td> <td>          -0.5000</td>\n",
       "</tr>\n",
       "<tr>\n",
       "  <th>MA.1</th> <td>           1.0000</td> <td>          +0.0000j</td> <td>           1.0000</td> <td>           0.0000</td>\n",
       "</tr>\n",
       "</table>"
      ],
      "text/plain": [
       "<class 'statsmodels.iolib.summary.Summary'>\n",
       "\"\"\"\n",
       "                             ARIMA Model Results                              \n",
       "==============================================================================\n",
       "Dep. Variable:               D2.Sales   No. Observations:                   55\n",
       "Model:                 ARIMA(4, 2, 1)   Log Likelihood                -688.611\n",
       "Method:                       css-mle   S.D. of innovations          62538.412\n",
       "Date:                Tue, 02 Nov 2021   AIC                           1391.221\n",
       "Time:                        22:50:08   BIC                           1405.273\n",
       "Sample:                             2   HQIC                          1396.655\n",
       "                                                                              \n",
       "==================================================================================\n",
       "                     coef    std err          z      P>|z|      [0.025      0.975]\n",
       "----------------------------------------------------------------------------------\n",
       "const            586.5973    351.262      1.670      0.101    -101.864    1275.058\n",
       "ar.L1.D2.Sales    -0.6117      0.135     -4.515      0.000      -0.877      -0.346\n",
       "ar.L2.D2.Sales    -0.3631      0.157     -2.320      0.025      -0.670      -0.056\n",
       "ar.L3.D2.Sales     0.3585      0.158      2.274      0.027       0.050       0.668\n",
       "ar.L4.D2.Sales     0.1616      0.135      1.194      0.238      -0.104       0.427\n",
       "ma.L1.D2.Sales    -1.0000      0.064    -15.583      0.000      -1.126      -0.874\n",
       "                                    Roots                                    \n",
       "=============================================================================\n",
       "                  Real          Imaginary           Modulus         Frequency\n",
       "-----------------------------------------------------------------------------\n",
       "AR.1           -0.5486           -0.9976j            1.1385           -0.3300\n",
       "AR.2           -0.5486           +0.9976j            1.1385            0.3300\n",
       "AR.3            1.6950           -0.0000j            1.6950           -0.0000\n",
       "AR.4           -2.8158           -0.0000j            2.8158           -0.5000\n",
       "MA.1            1.0000           +0.0000j            1.0000            0.0000\n",
       "-----------------------------------------------------------------------------\n",
       "\"\"\""
      ]
     },
     "execution_count": 252,
     "metadata": {},
     "output_type": "execute_result"
    }
   ],
   "source": [
    "model_fit.summary()"
   ]
  },
  {
   "cell_type": "code",
   "execution_count": 253,
   "id": "8e769a5e",
   "metadata": {
    "scrolled": true
   },
   "outputs": [
    {
     "name": "stderr",
     "output_type": "stream",
     "text": [
      "d:\\Users\\JasonChow\\Anaconda3\\lib\\site-packages\\statsmodels\\tsa\\base\\tsa_model.py:293: FutureWarning: RangeIndex._start is deprecated and will be removed in a future version. Use RangeIndex.start instead\n",
      "  stop = base_index._start + (key + 1) * base_index._step\n",
      "d:\\Users\\JasonChow\\Anaconda3\\lib\\site-packages\\statsmodels\\tsa\\base\\tsa_model.py:293: FutureWarning: RangeIndex._step is deprecated and will be removed in a future version. Use RangeIndex.step instead\n",
      "  stop = base_index._start + (key + 1) * base_index._step\n",
      "d:\\Users\\JasonChow\\Anaconda3\\lib\\site-packages\\statsmodels\\tsa\\base\\tsa_model.py:294: FutureWarning: RangeIndex._start is deprecated and will be removed in a future version. Use RangeIndex.start instead\n",
      "  index = RangeIndex(start=base_index._start,\n",
      "d:\\Users\\JasonChow\\Anaconda3\\lib\\site-packages\\statsmodels\\tsa\\base\\tsa_model.py:296: FutureWarning: RangeIndex._step is deprecated and will be removed in a future version. Use RangeIndex.step instead\n",
      "  step=base_index._step)\n"
     ]
    },
    {
     "data": {
      "text/plain": [
       "56    948216.045534\n",
       "57    793420.164404\n",
       "58    841347.301128\n",
       "59    922492.498134\n",
       "60    819538.037590\n",
       "61    846060.222004\n",
       "62    904919.120793\n",
       "63    836341.835401\n",
       "64    850634.918687\n",
       "65    893039.561208\n",
       "66    847691.025403\n",
       "67    854923.244614\n",
       "68    885335.111341\n",
       "dtype: float64"
      ]
     },
     "execution_count": 253,
     "metadata": {},
     "output_type": "execute_result"
    }
   ],
   "source": [
    "pred = model_fit.predict(start = 56, end = 68, dynamic= True, typ='levels')\n",
    "pred"
   ]
  },
  {
   "cell_type": "code",
   "execution_count": 254,
   "id": "ca8789f4",
   "metadata": {
    "scrolled": true
   },
   "outputs": [
    {
     "data": {
      "text/plain": [
       "<AxesSubplot:>"
      ]
     },
     "execution_count": 254,
     "metadata": {},
     "output_type": "execute_result"
    },
    {
     "data": {
      "image/png": "[encoded data removed]",
      "text/plain": [
       "<Figure size 864x576 with 1 Axes>"
      ]
     },
     "metadata": {
      "needs_background": "light"
     },
     "output_type": "display_data"
    }
   ],
   "source": [
    "pred.plot(figsize=(12,8))"
   ]
  },
  {
   "cell_type": "code",
   "execution_count": null,
   "id": "7d38adf8",
   "metadata": {},
   "outputs": [],
   "source": []
  }
 ],
 "metadata": {
  "kernelspec": {
   "display_name": "Python 3",
   "language": "python",
   "name": "python3"
  },
  "language_info": {
   "codemirror_mode": {
    "name": "ipython",
    "version": 3
   },
   "file_extension": ".py",
   "mimetype": "text/x-python",
   "name": "python",
   "nbconvert_exporter": "python",
   "pygments_lexer": "ipython3",
   "version": "3.7.0"
  }
 },
 "nbformat": 4,
 "nbformat_minor": 5
}
